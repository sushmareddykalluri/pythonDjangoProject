{
 "cells": [
  {
   "cell_type": "code",
   "execution_count": 12,
   "id": "conventional-huntington",
   "metadata": {},
   "outputs": [],
   "source": [
    "import psycopg2\n",
    "from dotenv import load_dotenv\n",
    "import os\n",
    "import pandas as pd"
   ]
  },
  {
   "cell_type": "code",
   "execution_count": 2,
   "id": "statutory-closer",
   "metadata": {},
   "outputs": [
    {
     "data": {
      "text/plain": [
       "True"
      ]
     },
     "execution_count": 2,
     "metadata": {},
     "output_type": "execute_result"
    }
   ],
   "source": [
    "load_dotenv()"
   ]
  },
  {
   "cell_type": "code",
   "execution_count": null,
   "id": "played-memorial",
   "metadata": {},
   "outputs": [],
   "source": []
  },
  {
   "cell_type": "code",
   "execution_count": 5,
   "id": "destroyed-bullet",
   "metadata": {},
   "outputs": [],
   "source": [
    "host= os.environ.get(\"DB_HOST\")\n",
    "name = os.environ.get(\"WAREHOUSE_DB_NAME\")\n",
    "user= os.environ.get(\"DB_USER\")\n",
    "password= os.environ.get(\"DB_PASS\")"
   ]
  },
  {
   "cell_type": "code",
   "execution_count": 9,
   "id": "communist-knowing",
   "metadata": {},
   "outputs": [],
   "source": [
    "password"
   ]
  },
  {
   "cell_type": "code",
   "execution_count": 11,
   "id": "smaller-station",
   "metadata": {},
   "outputs": [],
   "source": [
    "cnx = psycopg2.connect(\n",
    "    user = user,\n",
    "    database = name,\n",
    "    host = host,\n",
    "    password =\"pinkyreddy246\"\n",
    ")"
   ]
  },
  {
   "cell_type": "code",
   "execution_count": 13,
   "id": "intelligent-blanket",
   "metadata": {},
   "outputs": [],
   "source": [
    "query = \"select * from Place\"\n",
    "df = pd.read_sql(query,con=cnx)"
   ]
  },
  {
   "cell_type": "code",
   "execution_count": 14,
   "id": "laughing-religion",
   "metadata": {},
   "outputs": [
    {
     "data": {
      "text/html": [
       "<div>\n",
       "<style scoped>\n",
       "    .dataframe tbody tr th:only-of-type {\n",
       "        vertical-align: middle;\n",
       "    }\n",
       "\n",
       "    .dataframe tbody tr th {\n",
       "        vertical-align: top;\n",
       "    }\n",
       "\n",
       "    .dataframe thead th {\n",
       "        text-align: right;\n",
       "    }\n",
       "</style>\n",
       "<table border=\"1\" class=\"dataframe\">\n",
       "  <thead>\n",
       "    <tr style=\"text-align: right;\">\n",
       "      <th></th>\n",
       "      <th>id</th>\n",
       "      <th>name</th>\n",
       "      <th>description</th>\n",
       "      <th>created_at</th>\n",
       "    </tr>\n",
       "  </thead>\n",
       "  <tbody>\n",
       "    <tr>\n",
       "      <th>0</th>\n",
       "      <td>1</td>\n",
       "      <td>Tankband</td>\n",
       "      <td>tankband is very famous place in Hyderabad.</td>\n",
       "      <td>2023-07-31 23:46:40.111939</td>\n",
       "    </tr>\n",
       "  </tbody>\n",
       "</table>\n",
       "</div>"
      ],
      "text/plain": [
       "   id      name                                  description  \\\n",
       "0   1  Tankband  tankband is very famous place in Hyderabad.   \n",
       "\n",
       "                  created_at  \n",
       "0 2023-07-31 23:46:40.111939  "
      ]
     },
     "execution_count": 14,
     "metadata": {},
     "output_type": "execute_result"
    }
   ],
   "source": [
    "df"
   ]
  },
  {
   "cell_type": "code",
   "execution_count": 15,
   "id": "collect-country",
   "metadata": {},
   "outputs": [],
   "source": [
    "cnx.close()"
   ]
  },
  {
   "cell_type": "code",
   "execution_count": null,
   "id": "criminal-spanking",
   "metadata": {},
   "outputs": [],
   "source": []
  }
 ],
 "metadata": {
  "kernelspec": {
   "display_name": "Python 3",
   "language": "python",
   "name": "python3"
  },
  "language_info": {
   "codemirror_mode": {
    "name": "ipython",
    "version": 3
   },
   "file_extension": ".py",
   "mimetype": "text/x-python",
   "name": "python",
   "nbconvert_exporter": "python",
   "pygments_lexer": "ipython3",
   "version": "3.9.2"
  }
 },
 "nbformat": 4,
 "nbformat_minor": 5
}
